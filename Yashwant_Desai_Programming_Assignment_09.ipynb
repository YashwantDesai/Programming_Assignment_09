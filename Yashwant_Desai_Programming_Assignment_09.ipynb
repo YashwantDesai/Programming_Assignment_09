{
 "cells": [
  {
   "cell_type": "markdown",
   "id": "0c27a818",
   "metadata": {},
   "source": [
    "# Yashwant Desai –  Programming_Assingment 09"
   ]
  },
  {
   "cell_type": "markdown",
   "id": "68437547",
   "metadata": {},
   "source": [
    "# 1.Write a Python program to check if the given number is a Disarium Number?"
   ]
  },
  {
   "cell_type": "code",
   "execution_count": 1,
   "id": "ad7503e6",
   "metadata": {},
   "outputs": [
    {
     "name": "stdout",
     "output_type": "stream",
     "text": [
      "Enter Number: 8\n",
      "8 is a Disarium Number.\n"
     ]
    }
   ],
   "source": [
    "def is_disarium_number(num):\n",
    "    num_str = str(num)\n",
    "    length = len(num_str)\n",
    "    disarium_sum = sum(int(digit) ** (index + 1) for index, digit in enumerate(num_str))\n",
    "    return disarium_sum == num\n",
    "\n",
    "if __name__ == \"__main__\":\n",
    "    num_to_check = int(input(\"Enter Number: \"))\n",
    "    if is_disarium_number(num_to_check):\n",
    "        print(f\"{num_to_check} is a Disarium Number.\")\n",
    "    else:\n",
    "        print(f\"{num_to_check} is not a Disarium Number.\")"
   ]
  },
  {
   "cell_type": "markdown",
   "id": "640763a3",
   "metadata": {},
   "source": [
    "# 2.\tWrite a Python program to print all disarium numbers between 1 to 100?"
   ]
  },
  {
   "cell_type": "code",
   "execution_count": 2,
   "id": "3bf2d628",
   "metadata": {},
   "outputs": [
    {
     "name": "stdout",
     "output_type": "stream",
     "text": [
      "Disarium Numbers between 1 and 100: [1, 2, 3, 4, 5, 6, 7, 8, 9, 89]\n"
     ]
    }
   ],
   "source": [
    "def is_disarium_number(num):\n",
    "    num_str = str(num)\n",
    "    disarium_sum = sum(int(digit) ** (index + 1) for index, digit in enumerate(num_str))\n",
    "    return disarium_sum == num\n",
    "\n",
    "def find_disarium_numbers(start, end):\n",
    "    disarium_numbers = []\n",
    "    for num in range(start, end + 1):\n",
    "        if is_disarium_number(num):\n",
    "            disarium_numbers.append(num)\n",
    "    return disarium_numbers\n",
    "\n",
    "disarium_numbers_between_1_and_100 = find_disarium_numbers(1, 100)\n",
    "print(\"Disarium Numbers between 1 and 100:\", disarium_numbers_between_1_and_100)"
   ]
  },
  {
   "cell_type": "markdown",
   "id": "ea23c777",
   "metadata": {},
   "source": [
    "# 3.\tWrite a Python program to check if the given number is Happy Number?"
   ]
  },
  {
   "cell_type": "code",
   "execution_count": 3,
   "id": "46299563",
   "metadata": {},
   "outputs": [
    {
     "name": "stdout",
     "output_type": "stream",
     "text": [
      "Enter a number to check if it's a Happy Number: 1\n",
      "1 is a Happy Number.\n"
     ]
    }
   ],
   "source": [
    "def is_happy_number(num):\n",
    "    seen = set()\n",
    "    while num != 1 and num not in seen:\n",
    "        seen.add(num)\n",
    "        num = sum(int(digit) ** 2 for digit in str(num))\n",
    "    return num == 1\n",
    "\n",
    "if __name__ == \"__main__\":\n",
    "    num_to_check = int(input(\"Enter a number to check if it's a Happy Number: \"))\n",
    "    if is_happy_number(num_to_check):\n",
    "        print(f\"{num_to_check} is a Happy Number.\")\n",
    "    else:\n",
    "        print(f\"{num_to_check} is not a Happy Number.\")"
   ]
  },
  {
   "cell_type": "markdown",
   "id": "4462cee7",
   "metadata": {},
   "source": [
    "# 4.\tWrite a Python program to print all happy numbers between 1 and 100?"
   ]
  },
  {
   "cell_type": "code",
   "execution_count": 4,
   "id": "42513646",
   "metadata": {},
   "outputs": [
    {
     "name": "stdout",
     "output_type": "stream",
     "text": [
      "Happy Numbers between 1 and 100: [1, 7, 10, 13, 19, 23, 28, 31, 32, 44, 49, 68, 70, 79, 82, 86, 91, 94, 97, 100]\n"
     ]
    }
   ],
   "source": [
    "def is_happy_number(num):\n",
    "    seen = set()\n",
    "    while num != 1 and num not in seen:\n",
    "        seen.add(num)\n",
    "        num = sum(int(digit) ** 2 for digit in str(num))\n",
    "    return num == 1\n",
    "\n",
    "def find_happy_numbers(start, end):\n",
    "    happy_numbers = []\n",
    "    for num in range(start, end + 1):\n",
    "        if is_happy_number(num):\n",
    "            happy_numbers.append(num)\n",
    "    return happy_numbers\n",
    "\n",
    "happy_numbers_between_1_and_100 = find_happy_numbers(1, 100)\n",
    "print(\"Happy Numbers between 1 and 100:\", happy_numbers_between_1_and_100)"
   ]
  },
  {
   "cell_type": "markdown",
   "id": "346dd943",
   "metadata": {},
   "source": [
    "# 5.\tWrite a Python program to determine whether the given number is a Harshad Number?"
   ]
  },
  {
   "cell_type": "code",
   "execution_count": 5,
   "id": "a0bd5843",
   "metadata": {},
   "outputs": [
    {
     "name": "stdout",
     "output_type": "stream",
     "text": [
      "Enter a number to check if it's a harshad Number: 2\n",
      "2 is a harshad Number.\n"
     ]
    }
   ],
   "source": [
    "def is_harshad_number(num):\n",
    "    sum_of_digits = sum(int(digit) for digit in str(num))\n",
    "    return num % sum_of_digits == 0\n",
    "\n",
    "if __name__ == \"__main__\":\n",
    "    num_to_check = int(input(\"Enter a number to check if it's a harshad Number: \"))\n",
    "    if is_harshad_number(num_to_check):\n",
    "        print(f\"{num_to_check} is a harshad Number.\")\n",
    "    else:\n",
    "        print(f\"{num_to_check} is not a harshad Number.\")"
   ]
  },
  {
   "cell_type": "markdown",
   "id": "0f790c22",
   "metadata": {},
   "source": [
    "# 6.\tWrite a Python program to print all pronic numbers between 1 and 100?"
   ]
  },
  {
   "cell_type": "code",
   "execution_count": 6,
   "id": "2746b503",
   "metadata": {},
   "outputs": [
    {
     "name": "stdout",
     "output_type": "stream",
     "text": [
      "Pronic Numbers between 1 and 100: [2, 6, 12, 20, 30, 42, 56, 72, 90]\n"
     ]
    }
   ],
   "source": [
    "def find_pronic_numbers(start, end):\n",
    "    pronic_numbers = []\n",
    "    for num in range(start, end + 1):\n",
    "        if num == 0:\n",
    "            continue\n",
    "        for n in range(1, int(num**0.5) + 1):\n",
    "            if n * (n + 1) == num:\n",
    "                pronic_numbers.append(num)\n",
    "                break\n",
    "    return pronic_numbers\n",
    "\n",
    "pronic_numbers_between_1_and_100 = find_pronic_numbers(1, 100)\n",
    "print(\"Pronic Numbers between 1 and 100:\", pronic_numbers_between_1_and_100)"
   ]
  },
  {
   "cell_type": "markdown",
   "id": "a79c0885",
   "metadata": {},
   "source": [
    "# Done Regards,Yashwant"
   ]
  }
 ],
 "metadata": {
  "kernelspec": {
   "display_name": "Python 3 (ipykernel)",
   "language": "python",
   "name": "python3"
  },
  "language_info": {
   "codemirror_mode": {
    "name": "ipython",
    "version": 3
   },
   "file_extension": ".py",
   "mimetype": "text/x-python",
   "name": "python",
   "nbconvert_exporter": "python",
   "pygments_lexer": "ipython3",
   "version": "3.9.13"
  }
 },
 "nbformat": 4,
 "nbformat_minor": 5
}
